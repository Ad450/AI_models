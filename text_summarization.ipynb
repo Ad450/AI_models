{
  "nbformat": 4,
  "nbformat_minor": 0,
  "metadata": {
    "colab": {
      "provenance": [],
      "gpuType": "T4",
      "authorship_tag": "ABX9TyOqJf/t8GAvGOzOW+kab4GN",
      "include_colab_link": true
    },
    "kernelspec": {
      "name": "python3",
      "display_name": "Python 3"
    },
    "language_info": {
      "name": "python"
    },
    "accelerator": "GPU"
  },
  "cells": [
    {
      "cell_type": "markdown",
      "metadata": {
        "id": "view-in-github",
        "colab_type": "text"
      },
      "source": [
        "<a href=\"https://colab.research.google.com/github/Ad450/AI_models/blob/main/text_summarization.ipynb\" target=\"_parent\"><img src=\"https://colab.research.google.com/assets/colab-badge.svg\" alt=\"Open In Colab\"/></a>"
      ]
    },
    {
      "cell_type": "code",
      "source": [
        "from transformers import AutoModelForSeq2SeqLM, AutoTokenizer\n",
        "\n",
        "#  t5-small is an opensource pretrained model by google\n",
        "model_name = \"t5-small\"\n",
        "#  tokenizer convers text to numbers based on the specification of the t5-small model\n",
        "tokenizer = AutoTokenizer.from_pretrained(model_name)\n",
        "# load model\n",
        "model = AutoModelForSeq2SeqLM.from_pretrained(model_name)\n",
        "#  test text\n",
        "text = \"\"\"summarize: Over the past decade, renewable energy has transitioned from a niche alternative to a cornerstone of global power generation. Governments around the world have set ambitious targets for reducing carbon emissions, prompting a surge in investment in solar, wind, and hydropower technologies. Advances in battery storage and smart grid systems have also helped address one of the biggest challenges of renewable energy — intermittency.\n",
        "In 2022 alone, global renewable capacity grew by more than 10%, led primarily by new installations in Asia and Europe. The cost of producing electricity from solar and wind has fallen by over 80% since 2010, making these sources more affordable than fossil fuels in many regions. Major corporations have joined the movement, with companies like Google and Apple operating entirely on renewable power.\n",
        "However, the transition has not been without challenges. Developing nations still struggle with infrastructure limitations, while energy storage remains a bottleneck for consistent supply. Additionally, the mining of rare earth elements required for battery production has raised environmental and ethical concerns. Despite these hurdles, experts believe that with continued innovation and international cooperation, renewable energy will play a dominant role in the global power mix by 2040.\"\"\"\n",
        "#  get input from tokenizer to tensors\n",
        "inputs = tokenizer(text, return_tensors=\"pt\", max_length=512, truncation=True)\n",
        "\n",
        "summary_ids = model.generate(**inputs, max_length=50, num_beams=2)\n",
        "# decode the output tensor back to text\n",
        "print(tokenizer.decode(summary_ids[0], skip_special_tokens=True))"
      ],
      "metadata": {
        "colab": {
          "base_uri": "https://localhost:8080/"
        },
        "id": "QNnRwYcS8_d3",
        "outputId": "deae92de-3497-49c1-8358-947e50eb5fe2"
      },
      "execution_count": 7,
      "outputs": [
        {
          "output_type": "stream",
          "name": "stdout",
          "text": [
            "in 2022 alone, global renewable capacity grew by more than 10%. the cost of producing electricity from solar and wind has fallen by over 80% since 2010. the transition has not been without challenges.\n"
          ]
        }
      ]
    }
  ]
}